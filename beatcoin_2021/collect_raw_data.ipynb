{
 "cells": [
  {
   "cell_type": "code",
   "execution_count": 1,
   "metadata": {},
   "outputs": [],
   "source": [
    "import pandas_datareader as pdr  # to install: !pip install pandas_datareader\n",
    "from datetime import datetime\n",
    "import os\n",
    "import eda\n",
    "import numpy as np\n",
    "from outlier_report import outlier_report\n",
    "import matplotlib.pyplot as plt\n",
    "import seaborn as sns"
   ]
  },
  {
   "cell_type": "markdown",
   "metadata": {},
   "source": [
    "## return of market index"
   ]
  },
  {
   "cell_type": "code",
   "execution_count": 2,
   "metadata": {},
   "outputs": [],
   "source": [
    "# Here we extract the market information\n",
    "market_index = ['^GSPC', '^DJI']\n",
    "market_index_name = ['S&P500', 'DJ30']\n",
    "\n",
    "start_time = datetime(2019, 3, 1)\n",
    "end_time = datetime(2021, 4, 30)\n",
    "\n",
    "# load\n",
    "index_points = pdr.get_data_yahoo(market_index, start = start_time, end = end_time)\n",
    "index_points = index_points.filter(like='Adj Close') # reduce to just columns with this in the name\n",
    "index_points.columns = market_index_name # put their tickers as column names\n",
    "\n",
    "\n",
    "# add return var.\n",
    "index_points['sp500_rtn'] = index_points['S&P500'].pct_change()\n",
    "index_points['DJ30_rtn'] = index_points['DJ30'].pct_change()\n",
    "\n",
    "\n",
    "index_points.round(6).to_csv('input_data/market_index_return.csv')"
   ]
  },
  {
   "cell_type": "markdown",
   "metadata": {},
   "source": [
    "## return of cryptos"
   ]
  },
  {
   "cell_type": "code",
   "execution_count": 3,
   "metadata": {},
   "outputs": [],
   "source": [
    "# Here we extract \n",
    "cryptos = ['BTC-USD', 'ETH-USD', 'BNB-USD', 'XRP-USD', 'USDT-USD', \n",
    "           'DOGE-USD', 'ADA-USD', 'BCH-USD', 'LTC-USD', 'LINK-USD']\n",
    "\n",
    "crypto_names = ['BTC', 'ETH', 'BNB', 'XRP', 'USDT', \n",
    "           'DOGE', 'ADA', 'BCH', 'LTC', 'LINK']\n",
    "\n",
    "start_time = datetime(2019, 3, 1)\n",
    "end_time = datetime(2021, 4, 30)\n",
    "\n",
    "# load\n",
    "crypto_prices = pdr.get_data_yahoo(cryptos, start = start_time, end = end_time)\n",
    "crypto_prices = crypto_prices.filter(like='Adj Close') # reduce to just columns with this in the name\n",
    "crypto_prices.columns = crypto_names # put their tickers as column names\n",
    "\n",
    "# add return var.\n",
    "# MAKE SURE YOU CREATE THE VARIABLES WITHIN EACH FIRM - use groupby\n",
    "for ele in crypto_names:\n",
    "    col_name = ele + '_rtn'\n",
    "    crypto_prices[col_name] = crypto_prices[ele].pct_change()\n",
    "    \n",
    "crypto_prices.round(6).to_csv('input_data/cryptos_return.csv')"
   ]
  },
  {
   "cell_type": "markdown",
   "metadata": {},
   "source": [
    "## volume of cryptos"
   ]
  },
  {
   "cell_type": "code",
   "execution_count": 4,
   "metadata": {},
   "outputs": [],
   "source": [
    "# Here we extract \n",
    "cryptos2 = ['BTC-USD', 'ETH-USD', 'BNB-USD', 'XRP-USD', 'USDT-USD', \n",
    "           'DOGE-USD', 'ADA-USD', 'BCH-USD', 'LTC-USD', 'LINK-USD']\n",
    "\n",
    "crypto_names2 = ['BTC', 'ETH', 'BNB', 'XRP', 'USDT', \n",
    "           'DOGE', 'ADA', 'BCH', 'LTC', 'LINK']\n",
    "\n",
    "start_time = datetime(2019, 3, 1)\n",
    "end_time = datetime(2021, 4, 30)\n",
    "\n",
    "# load\n",
    "crypto_prices2 = pdr.get_data_yahoo(cryptos2, start = start_time, end = end_time)\n",
    "crypto_prices2 = crypto_prices2.filter(like='Volume') # reduce to just columns with this in the name\n",
    "crypto_prices2.columns = crypto_names2 # put their tickers as column names\n",
    "crypto_prices2\n",
    "# add return var.\n",
    "# MAKE SURE YOU CREATE THE VARIABLES WITHIN EACH FIRM - use groupby\n",
    "\n",
    "    \n",
    "crypto_prices2.round(4).to_csv('input_data/cryptos_volume.csv')"
   ]
  },
  {
   "cell_type": "markdown",
   "metadata": {},
   "source": [
    "## crypto market return CCi"
   ]
  },
  {
   "cell_type": "code",
   "execution_count": 5,
   "metadata": {},
   "outputs": [],
   "source": [
    "import pandas as pd\n",
    "\n",
    "cci30 = pd.read_csv('input_data/cci30_OHLCV.csv')\n",
    "\n",
    "cci30 = cci30.assign(ret = cci30['Close'].pct_change())\n",
    "\n",
    "cci30.to_csv('input_data/cci30_OHLCV.csv',index=False)"
   ]
  },
  {
   "cell_type": "markdown",
   "metadata": {},
   "source": [
    "## risk free rate"
   ]
  },
  {
   "cell_type": "code",
   "execution_count": 6,
   "metadata": {},
   "outputs": [],
   "source": [
    "import pandas as pd\n",
    "from requests_html import HTMLSession\n",
    "session = HTMLSession()\n",
    "\n",
    "frames = []\n",
    "\n",
    "for y in ['2019','2020','2021']:\n",
    "    url = 'https://www.treasury.gov/resource-center/data-chart-center/interest-rates/pages/TextView.aspx?data=yieldYear&year=' + y\n",
    "    r = session.get(url)\n",
    "    table = r.html.find('.t-chart')[0]\n",
    "    df = pd.read_html(table.html)[0]\n",
    "    df['Date'] = pd.to_datetime(df['Date'], format = '%m/%d/%y')\n",
    "    if y == '2019':\n",
    "        df = df.query('Date >= \"03/01/19\"')\n",
    "    if y == '2021':\n",
    "        df = df.query('Date <= \"05/01/21\"')\n",
    "    frames.append(df)\n",
    "    \n",
    "risk_free_rate = pd.concat(frames)\n",
    "risk_free_rate.to_csv('input_data/risk_free_rate.csv',index=False)"
   ]
  }
 ],
 "metadata": {
  "kernelspec": {
   "display_name": "Python 3",
   "language": "python",
   "name": "python3"
  },
  "language_info": {
   "codemirror_mode": {
    "name": "ipython",
    "version": 3
   },
   "file_extension": ".py",
   "mimetype": "text/x-python",
   "name": "python",
   "nbconvert_exporter": "python",
   "pygments_lexer": "ipython3",
   "version": "3.8.5"
  }
 },
 "nbformat": 4,
 "nbformat_minor": 4
}
