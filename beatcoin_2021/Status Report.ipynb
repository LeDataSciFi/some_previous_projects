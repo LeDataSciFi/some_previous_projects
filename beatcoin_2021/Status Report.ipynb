{
 "cells": [
  {
   "cell_type": "code",
   "execution_count": 1,
   "metadata": {},
   "outputs": [],
   "source": [
    "import pandas_datareader as pdr  # to install: !pip install pandas_datareader\n",
    "import pandas as pd\n",
    "from datetime import datetime\n",
    "import os\n",
    "import eda\n",
    "import numpy as np\n",
    "from outlier_report import outlier_report\n",
    "import matplotlib.pyplot as plt\n",
    "import seaborn as sns"
   ]
  },
  {
   "cell_type": "code",
   "execution_count": 2,
   "metadata": {},
   "outputs": [],
   "source": [
    "index_points = pd.read_csv('input_data/market_index_return.csv')"
   ]
  },
  {
   "cell_type": "code",
   "execution_count": 3,
   "metadata": {},
   "outputs": [],
   "source": [
    "crypto_prices = pd.read_csv('input_data/cryptos_return.csv')"
   ]
  },
  {
   "cell_type": "markdown",
   "metadata": {},
   "source": [
    "## EDA for index_points"
   ]
  },
  {
   "cell_type": "code",
   "execution_count": 4,
   "metadata": {},
   "outputs": [
    {
     "name": "stdout",
     "output_type": "stream",
     "text": [
      "***********EDA for index_points***********\n",
      "\n",
      "***********First five rows***********\n",
      "    tic        Date     Adj Close    return\n",
      "0  DJ30  2019-03-01  26026.320312       NaN\n",
      "1  DJ30  2019-03-04  25819.650391 -0.007941\n",
      "2  DJ30  2019-03-05  25806.630859 -0.000504\n",
      "3  DJ30  2019-03-06  25673.460938 -0.005160\n",
      "4  DJ30  2019-03-07  25473.230469 -0.007799\n",
      "\n",
      "***********Last five rows***********\n",
      "         tic        Date    Adj Close    return\n",
      "1089  S&P500  2021-04-26  4187.620117  0.001782\n",
      "1090  S&P500  2021-04-27  4186.720215 -0.000215\n",
      "1091  S&P500  2021-04-28  4183.180176 -0.000846\n",
      "1092  S&P500  2021-04-29  4211.470215  0.006763\n",
      "1093  S&P500  2021-04-30  4181.169922 -0.007195\n",
      "\n",
      "Shape: (1094, 4)\n",
      "\n",
      "Numeric columns: ['Adj Close', 'return']\n",
      "\n",
      "Non-numeric columns: ['tic', 'Date']\n",
      "\n",
      "Unique Values of ['tic']:\n",
      "['DJ30' 'S&P500']\n",
      "\n",
      "Missing values:\n",
      "     tic missed: 0\n",
      "     Date missed: 0\n",
      "     Adj Close missed: 0\n",
      "     return missed: 1\n",
      "\n",
      "Outliers:\n"
     ]
    },
    {
     "data": {
      "text/html": [
       "<style  type=\"text/css\" >\n",
       "#T_43d87821_ae50_11eb_b277_28c63fac562erow0_col3,#T_43d87821_ae50_11eb_b277_28c63fac562erow0_col11,#T_43d87821_ae50_11eb_b277_28c63fac562erow0_col12{\n",
       "            background-color:  red;\n",
       "        }</style><table id=\"T_43d87821_ae50_11eb_b277_28c63fac562e\" ><thead>    <tr>        <th class=\"blank level0\" ></th>        <th class=\"col_heading level0 col0\" >count</th>        <th class=\"col_heading level0 col1\" >mean</th>        <th class=\"col_heading level0 col2\" >std</th>        <th class=\"col_heading level0 col3\" >min</th>        <th class=\"col_heading level0 col4\" >1%</th>        <th class=\"col_heading level0 col5\" >5%</th>        <th class=\"col_heading level0 col6\" >25%</th>        <th class=\"col_heading level0 col7\" >50%</th>        <th class=\"col_heading level0 col8\" >75%</th>        <th class=\"col_heading level0 col9\" >95%</th>        <th class=\"col_heading level0 col10\" >99%</th>        <th class=\"col_heading level0 col11\" >max</th>        <th class=\"col_heading level0 col12\" >max_z_abs</th>    </tr></thead><tbody>\n",
       "                <tr>\n",
       "                        <th id=\"T_43d87821_ae50_11eb_b277_28c63fac562elevel0_row0\" class=\"row_heading level0 row0\" >return</th>\n",
       "                        <td id=\"T_43d87821_ae50_11eb_b277_28c63fac562erow0_col0\" class=\"data row0 col0\" >1,092</td>\n",
       "                        <td id=\"T_43d87821_ae50_11eb_b277_28c63fac562erow0_col1\" class=\"data row0 col1\" >-0.00</td>\n",
       "                        <td id=\"T_43d87821_ae50_11eb_b277_28c63fac562erow0_col2\" class=\"data row0 col2\" >1.00</td>\n",
       "                        <td id=\"T_43d87821_ae50_11eb_b277_28c63fac562erow0_col3\" class=\"data row0 col3\" >-7.98</td>\n",
       "                        <td id=\"T_43d87821_ae50_11eb_b277_28c63fac562erow0_col4\" class=\"data row0 col4\" >-3.06</td>\n",
       "                        <td id=\"T_43d87821_ae50_11eb_b277_28c63fac562erow0_col5\" class=\"data row0 col5\" >-1.48</td>\n",
       "                        <td id=\"T_43d87821_ae50_11eb_b277_28c63fac562erow0_col6\" class=\"data row0 col6\" >-0.31</td>\n",
       "                        <td id=\"T_43d87821_ae50_11eb_b277_28c63fac562erow0_col7\" class=\"data row0 col7\" >0.03</td>\n",
       "                        <td id=\"T_43d87821_ae50_11eb_b277_28c63fac562erow0_col8\" class=\"data row0 col8\" >0.38</td>\n",
       "                        <td id=\"T_43d87821_ae50_11eb_b277_28c63fac562erow0_col9\" class=\"data row0 col9\" >1.12</td>\n",
       "                        <td id=\"T_43d87821_ae50_11eb_b277_28c63fac562erow0_col10\" class=\"data row0 col10\" >2.99</td>\n",
       "                        <td id=\"T_43d87821_ae50_11eb_b277_28c63fac562erow0_col11\" class=\"data row0 col11\" >6.93</td>\n",
       "                        <td id=\"T_43d87821_ae50_11eb_b277_28c63fac562erow0_col12\" class=\"data row0 col12\" >7.98</td>\n",
       "            </tr>\n",
       "            <tr>\n",
       "                        <th id=\"T_43d87821_ae50_11eb_b277_28c63fac562elevel0_row1\" class=\"row_heading level0 row1\" >Adj Close</th>\n",
       "                        <td id=\"T_43d87821_ae50_11eb_b277_28c63fac562erow1_col0\" class=\"data row1 col0\" >1,094</td>\n",
       "                        <td id=\"T_43d87821_ae50_11eb_b277_28c63fac562erow1_col1\" class=\"data row1 col1\" >-0.00</td>\n",
       "                        <td id=\"T_43d87821_ae50_11eb_b277_28c63fac562erow1_col2\" class=\"data row1 col2\" >1.00</td>\n",
       "                        <td id=\"T_43d87821_ae50_11eb_b277_28c63fac562erow1_col3\" class=\"data row1 col3\" >-1.07</td>\n",
       "                        <td id=\"T_43d87821_ae50_11eb_b277_28c63fac562erow1_col4\" class=\"data row1 col4\" >-1.04</td>\n",
       "                        <td id=\"T_43d87821_ae50_11eb_b277_28c63fac562erow1_col5\" class=\"data row1 col5\" >-1.02</td>\n",
       "                        <td id=\"T_43d87821_ae50_11eb_b277_28c63fac562erow1_col6\" class=\"data row1 col6\" >-1.00</td>\n",
       "                        <td id=\"T_43d87821_ae50_11eb_b277_28c63fac562erow1_col7\" class=\"data row1 col7\" >-0.32</td>\n",
       "                        <td id=\"T_43d87821_ae50_11eb_b277_28c63fac562erow1_col8\" class=\"data row1 col8\" >0.95</td>\n",
       "                        <td id=\"T_43d87821_ae50_11eb_b277_28c63fac562erow1_col9\" class=\"data row1 col9\" >1.29</td>\n",
       "                        <td id=\"T_43d87821_ae50_11eb_b277_28c63fac562erow1_col10\" class=\"data row1 col10\" >1.49</td>\n",
       "                        <td id=\"T_43d87821_ae50_11eb_b277_28c63fac562erow1_col11\" class=\"data row1 col11\" >1.52</td>\n",
       "                        <td id=\"T_43d87821_ae50_11eb_b277_28c63fac562erow1_col12\" class=\"data row1 col12\" >1.52</td>\n",
       "            </tr>\n",
       "    </tbody></table>"
      ],
      "text/plain": [
       "<pandas.io.formats.style.Styler at 0x9b32a48>"
      ]
     },
     "metadata": {},
     "output_type": "display_data"
    },
    {
     "name": "stdout",
     "output_type": "stream",
     "text": [
      "There are 1 variables that contain outliers. Red cells represent outliers.\n",
      "\n",
      "Visualization:\n"
     ]
    },
    {
     "data": {
      "image/png": "[encoded data removed]",
      "text/plain": [
       "<Figure size 432x288 with 1 Axes>"
      ]
     },
     "metadata": {
      "needs_background": "light"
     },
     "output_type": "display_data"
    }
   ],
   "source": [
    "print(\"***********EDA for index_points***********\")\n",
    "print()\n",
    "print(\"***********First five rows***********\")\n",
    "print(index_points.head())\n",
    "print()\n",
    "print(\"***********Last five rows***********\")\n",
    "print(index_points.tail())\n",
    "print()\n",
    "print(\"Shape:\",index_points.shape)\n",
    "print()\n",
    "print(\"Numeric columns:\",index_points.select_dtypes(include = np.number).columns.to_list())\n",
    "print()\n",
    "print(\"Non-numeric columns:\",index_points.select_dtypes(exclude = np.number).columns.to_list())\n",
    "# unique\n",
    "print()\n",
    "print(\"Unique Values of ['tic']:\")\n",
    "print(index_points['tic'].unique())\n",
    "# missing values\n",
    "print()\n",
    "print(\"Missing values:\")\n",
    "missing = 0\n",
    "for co in index_points.columns:\n",
    "    if index_points[co].isnull().sum() > 0:\n",
    "        missing = missing +1\n",
    "    print('    ',co,'missed:', missing)\n",
    "print()\n",
    "# outliers\n",
    "print(\"Outliers:\")\n",
    "vars_to_check = ['Adj Close', 'return']\n",
    "vars_with_big_outliers = list(outlier_report(index_points,vars_to_check,thres=4,return_df=True,no_print=True)\n",
    "                              .query('max_z_abs > 5').index)\n",
    "outlier_report(index_points,vars_to_check,thres=4)\n",
    "print('There are',len(vars_with_big_outliers), 'variables that contain outliers. Red cells represent outliers.')\n",
    "print()\n",
    "# visualization\n",
    "print(\"Visualization:\")\n",
    "date_ret = sns.lineplot(data = index_points, x = 'Date', y = 'return')\n",
    "plt.title(\"Stock return and Date\")\n",
    "plt.show()"
   ]
  },
  {
   "cell_type": "markdown",
   "metadata": {},
   "source": [
    "## EDA for crypto_prices"
   ]
  },
  {
   "cell_type": "code",
   "execution_count": 5,
   "metadata": {},
   "outputs": [
    {
     "name": "stdout",
     "output_type": "stream",
     "text": [
      "***********EDA for crypto_prices***********\n",
      "\n",
      "***********First five rows***********\n",
      "       tic        Date  Adj Close    return\n",
      "0  ADA-USD  2019-03-01   0.043279       NaN\n",
      "1  ADA-USD  2019-03-02   0.042838 -0.010190\n",
      "2  ADA-USD  2019-03-03   0.042312 -0.012279\n",
      "3  ADA-USD  2019-03-04   0.040602 -0.040414\n",
      "4  ADA-USD  2019-03-05   0.043212  0.064283\n",
      "\n",
      "***********Last five rows***********\n",
      "          tic        Date  Adj Close    return\n",
      "7885  XRP-USD  2021-04-27   1.400955  0.023711\n",
      "7886  XRP-USD  2021-04-28   1.358601 -0.030232\n",
      "7887  XRP-USD  2021-04-29   1.399360  0.030001\n",
      "7888  XRP-USD  2021-04-30   1.591674  0.137430\n",
      "7889  XRP-USD  2021-05-01   1.651025  0.037288\n",
      "\n",
      "Shape: (7890, 4)\n",
      "\n",
      "Numeric columns: ['Adj Close', 'return']\n",
      "\n",
      "Non-numeric columns: ['tic', 'Date']\n",
      "\n",
      "Unique Values of ['tic']:\n",
      "['ADA-USD' 'BCH-USD' 'BNB-USD' 'BTC-USD' 'DOGE-USD' 'ETH-USD' 'LINK-USD'\n",
      " 'LTC-USD' 'USDT-USD' 'XRP-USD']\n",
      "\n",
      "Missing values:\n",
      "     tic missed: 0\n",
      "     Date missed: 0\n",
      "     Adj Close missed: 0\n",
      "     return missed: 1\n",
      "\n",
      "Outliers:\n"
     ]
    },
    {
     "data": {
      "text/html": [
       "<style  type=\"text/css\" >\n",
       "#T_56322280_ae50_11eb_a016_28c63fac562erow0_col3,#T_56322280_ae50_11eb_a016_28c63fac562erow0_col11,#T_56322280_ae50_11eb_a016_28c63fac562erow0_col12,#T_56322280_ae50_11eb_a016_28c63fac562erow1_col10,#T_56322280_ae50_11eb_a016_28c63fac562erow1_col11,#T_56322280_ae50_11eb_a016_28c63fac562erow1_col12{\n",
       "            background-color:  red;\n",
       "        }</style><table id=\"T_56322280_ae50_11eb_a016_28c63fac562e\" ><thead>    <tr>        <th class=\"blank level0\" ></th>        <th class=\"col_heading level0 col0\" >count</th>        <th class=\"col_heading level0 col1\" >mean</th>        <th class=\"col_heading level0 col2\" >std</th>        <th class=\"col_heading level0 col3\" >min</th>        <th class=\"col_heading level0 col4\" >1%</th>        <th class=\"col_heading level0 col5\" >5%</th>        <th class=\"col_heading level0 col6\" >25%</th>        <th class=\"col_heading level0 col7\" >50%</th>        <th class=\"col_heading level0 col8\" >75%</th>        <th class=\"col_heading level0 col9\" >95%</th>        <th class=\"col_heading level0 col10\" >99%</th>        <th class=\"col_heading level0 col11\" >max</th>        <th class=\"col_heading level0 col12\" >max_z_abs</th>    </tr></thead><tbody>\n",
       "                <tr>\n",
       "                        <th id=\"T_56322280_ae50_11eb_a016_28c63fac562elevel0_row0\" class=\"row_heading level0 row0\" >return</th>\n",
       "                        <td id=\"T_56322280_ae50_11eb_a016_28c63fac562erow0_col0\" class=\"data row0 col0\" >7,880</td>\n",
       "                        <td id=\"T_56322280_ae50_11eb_a016_28c63fac562erow0_col1\" class=\"data row0 col1\" >-0.00</td>\n",
       "                        <td id=\"T_56322280_ae50_11eb_a016_28c63fac562erow0_col2\" class=\"data row0 col2\" >1.00</td>\n",
       "                        <td id=\"T_56322280_ae50_11eb_a016_28c63fac562erow0_col3\" class=\"data row0 col3\" >-7.18</td>\n",
       "                        <td id=\"T_56322280_ae50_11eb_a016_28c63fac562erow0_col4\" class=\"data row0 col4\" >-2.01</td>\n",
       "                        <td id=\"T_56322280_ae50_11eb_a016_28c63fac562erow0_col5\" class=\"data row0 col5\" >-1.13</td>\n",
       "                        <td id=\"T_56322280_ae50_11eb_a016_28c63fac562erow0_col6\" class=\"data row0 col6\" >-0.34</td>\n",
       "                        <td id=\"T_56322280_ae50_11eb_a016_28c63fac562erow0_col7\" class=\"data row0 col7\" >-0.07</td>\n",
       "                        <td id=\"T_56322280_ae50_11eb_a016_28c63fac562erow0_col8\" class=\"data row0 col8\" >0.26</td>\n",
       "                        <td id=\"T_56322280_ae50_11eb_a016_28c63fac562erow0_col9\" class=\"data row0 col9\" >1.28</td>\n",
       "                        <td id=\"T_56322280_ae50_11eb_a016_28c63fac562erow0_col10\" class=\"data row0 col10\" >2.73</td>\n",
       "                        <td id=\"T_56322280_ae50_11eb_a016_28c63fac562erow0_col11\" class=\"data row0 col11\" >42.54</td>\n",
       "                        <td id=\"T_56322280_ae50_11eb_a016_28c63fac562erow0_col12\" class=\"data row0 col12\" >42.54</td>\n",
       "            </tr>\n",
       "            <tr>\n",
       "                        <th id=\"T_56322280_ae50_11eb_a016_28c63fac562elevel0_row1\" class=\"row_heading level0 row1\" >Adj Close</th>\n",
       "                        <td id=\"T_56322280_ae50_11eb_a016_28c63fac562erow1_col0\" class=\"data row1 col0\" >7,890</td>\n",
       "                        <td id=\"T_56322280_ae50_11eb_a016_28c63fac562erow1_col1\" class=\"data row1 col1\" >0.00</td>\n",
       "                        <td id=\"T_56322280_ae50_11eb_a016_28c63fac562erow1_col2\" class=\"data row1 col2\" >1.00</td>\n",
       "                        <td id=\"T_56322280_ae50_11eb_a016_28c63fac562erow1_col3\" class=\"data row1 col3\" >-0.25</td>\n",
       "                        <td id=\"T_56322280_ae50_11eb_a016_28c63fac562erow1_col4\" class=\"data row1 col4\" >-0.25</td>\n",
       "                        <td id=\"T_56322280_ae50_11eb_a016_28c63fac562erow1_col5\" class=\"data row1 col5\" >-0.25</td>\n",
       "                        <td id=\"T_56322280_ae50_11eb_a016_28c63fac562erow1_col6\" class=\"data row1 col6\" >-0.25</td>\n",
       "                        <td id=\"T_56322280_ae50_11eb_a016_28c63fac562erow1_col7\" class=\"data row1 col7\" >-0.25</td>\n",
       "                        <td id=\"T_56322280_ae50_11eb_a016_28c63fac562erow1_col8\" class=\"data row1 col8\" >-0.22</td>\n",
       "                        <td id=\"T_56322280_ae50_11eb_a016_28c63fac562erow1_col9\" class=\"data row1 col9\" >1.21</td>\n",
       "                        <td id=\"T_56322280_ae50_11eb_a016_28c63fac562erow1_col10\" class=\"data row1 col10\" >6.72</td>\n",
       "                        <td id=\"T_56322280_ae50_11eb_a016_28c63fac562erow1_col11\" class=\"data row1 col11\" >9.33</td>\n",
       "                        <td id=\"T_56322280_ae50_11eb_a016_28c63fac562erow1_col12\" class=\"data row1 col12\" >9.33</td>\n",
       "            </tr>\n",
       "    </tbody></table>"
      ],
      "text/plain": [
       "<pandas.io.formats.style.Styler at 0xa6e52e0>"
      ]
     },
     "metadata": {},
     "output_type": "display_data"
    },
    {
     "name": "stdout",
     "output_type": "stream",
     "text": [
      "There are 2 variables that contain outliers. Red cells represent outliers.\n",
      "\n",
      "Visualization:\n"
     ]
    },
    {
     "data": {
      "image/png": "[encoded data removed]",
      "text/plain": [
       "<Figure size 432x288 with 1 Axes>"
      ]
     },
     "metadata": {
      "needs_background": "light"
     },
     "output_type": "display_data"
    }
   ],
   "source": [
    "print(\"***********EDA for crypto_prices***********\")\n",
    "print()\n",
    "print(\"***********First five rows***********\")\n",
    "print(crypto_prices.head())\n",
    "print()\n",
    "print(\"***********Last five rows***********\")\n",
    "print(crypto_prices.tail())\n",
    "print()\n",
    "print(\"Shape:\",crypto_prices.shape)\n",
    "print()\n",
    "print(\"Numeric columns:\",crypto_prices.select_dtypes(include = np.number).columns.to_list())\n",
    "print()\n",
    "print(\"Non-numeric columns:\",crypto_prices.select_dtypes(exclude = np.number).columns.to_list())\n",
    "# unique\n",
    "print()\n",
    "print(\"Unique Values of ['tic']:\")\n",
    "print(crypto_prices['tic'].unique())\n",
    "# missing values\n",
    "print()\n",
    "print(\"Missing values:\")\n",
    "missing = 0\n",
    "for co in crypto_prices.columns:\n",
    "    if crypto_prices[co].isnull().sum() > 0:\n",
    "        missing = missing +1\n",
    "    print('    ',co,'missed:', missing)\n",
    "print()\n",
    "# outliers\n",
    "print(\"Outliers:\")\n",
    "vars_to_check = ['Adj Close', 'return']\n",
    "vars_with_big_outliers = list(outlier_report(crypto_prices,vars_to_check,thres=4,return_df=True,no_print=True)\n",
    "                              .query('max_z_abs > 5').index)\n",
    "outlier_report(crypto_prices,vars_to_check,thres=4)\n",
    "print('There are',len(vars_with_big_outliers), 'variables that contain outliers. Red cells represent outliers.')\n",
    "print()\n",
    "# visualization\n",
    "print(\"Visualization:\")\n",
    "date_ret = sns.lineplot(data = crypto_prices, x = 'Date', y = 'return')\n",
    "plt.title(\"Crypto return and Date\")\n",
    "plt.show()"
   ]
  },
  {
   "cell_type": "markdown",
   "metadata": {},
   "source": [
    "## Analysis for EDA "
   ]
  },
  {
   "cell_type": "markdown",
   "metadata": {},
   "source": [
    "- Our data sourcces \n",
    "\n",
    "    - Yahoo Finance \n",
    "    \n",
    "- How we acquired the data \n",
    "\n",
    "    - `market_index_return.csv` \n",
    "       - Set up  `start_time` and `end_time`\n",
    "       - Use the `.get_data_yahoo` to load data \n",
    "       - Use the `.pct_change()` to calculate return \n",
    "       - Save as csv file\n",
    "\n",
    "    - `crypto_return.csv`\n",
    "       - Create a list with TOP 10 company names\n",
    "       - Set up `start_time` and `end_time`\n",
    "       - Use the `.get_data_yahoo` to load data \n",
    "       - Use the `.pct_change()` to calculate return \n",
    "       - Save as csv file\n",
    "       \n",
    "- Observations from our EDA above\n",
    "\n",
    "    - EDA for index_points\n",
    "       - The volatility from March to April 2020 was significant during the period, with unprecedented returns in positive and negative values\n",
    "       - The variable `return` has outliers, with -7.99 to the minimum and 6.94 to the maximum\n",
    "       \n",
    "    - EDA for crypto_prices \n",
    "       - The crypto return in March 2020 declined sharply, with significantly negative number compared to the others\n",
    "       - The crypto return in February 2021 increased extremely, reaching a peak during the time span\n",
    "       - The variable `return` has outliers, with -7.18 to the minimum and 42.53 to the maximum\n",
    "       - The variable `Adj close` has outliers, with -0.25 to the minimum and 9.37 to the maximum\n",
    "\n"
   ]
  }
 ],
 "metadata": {
  "kernelspec": {
   "display_name": "Python 3",
   "language": "python",
   "name": "python3"
  },
  "language_info": {
   "codemirror_mode": {
    "name": "ipython",
    "version": 3
   },
   "file_extension": ".py",
   "mimetype": "text/x-python",
   "name": "python",
   "nbconvert_exporter": "python",
   "pygments_lexer": "ipython3",
   "version": "3.8.5"
  }
 },
 "nbformat": 4,
 "nbformat_minor": 4
}
