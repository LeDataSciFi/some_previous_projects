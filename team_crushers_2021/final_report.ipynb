{
 "cells": [
  {
   "cell_type": "markdown",
   "id": "passing-passing",
   "metadata": {},
   "source": [
    "# When Markets Invert: The GameStop Effect\n",
    "## Alina Lam, Luke Resnick, Julio Veracruz"
   ]
  },
  {
   "cell_type": "markdown",
   "id": "labeled-physics",
   "metadata": {},
   "source": [
    "<br><br>"
   ]
  },
  {
   "cell_type": "markdown",
   "id": "comic-profit",
   "metadata": {},
   "source": [
    "## SUMMARY"
   ]
  },
  {
   "cell_type": "markdown",
   "id": "visible-harbor",
   "metadata": {},
   "source": [
    "The main goal of this project was to examine if the GameStop Rally has a widespread effect on the stock market, looking specifically at the highly-shorted firms in the Russell 2000 index. We found each firm's overperformance, or alpha, during the pre-Rally period of 2020 and during the GameStop Rally of January and February 2021. We then analyzed cross-correlations of these alphas along with the level of short interest for the combination of firms. Lastly, we used a Difference in Differences (DiD) and various plots to see if our results were significant enough to draw conclusions on whether or not the GameStop Rally had an effect on firms with high short interest."
   ]
  },
  {
   "cell_type": "markdown",
   "id": "frank-calvin",
   "metadata": {},
   "source": [
    "<br><br>"
   ]
  },
  {
   "cell_type": "markdown",
   "id": "instrumental-shore",
   "metadata": {},
   "source": [
    "## INTRODUCTION"
   ]
  },
  {
   "cell_type": "markdown",
   "id": "anticipated-origin",
   "metadata": {},
   "source": [
    "Why is this topic interesting? One of the greatest questions facing the finance industry today is what will be the impact of the “democratization” of finance. Yes, this is a common buzzword whose meaning has been rendered almost meaningless due to excessive use. But the theme of investing being more readily available to a wide group of people is certainly real. Everyone has a smartphone that can download a multitude of brokerage apps. Almost all brokerage firms have cut trading fees to zero, allowing anyone to “day-trade” even with minimal starting capital. And almost anything you could ever want to know about the stock market can be found online. "
   ]
  },
  {
   "cell_type": "markdown",
   "id": "different-insulin",
   "metadata": {},
   "source": [
    "The GameStop Rally in early 2021 was one of the first examples of retail traders taking advantage of this new investing paradigm. A few savvy members of the reddit forum r/WallStreetBets discovered that there was a huge amount of short interest surrounding GameStop. This, combined with fundamental factors like the activist stake taken by notable investor Ryan Cohen, led to a bull thesis that was amplified by the Internet forum. Soon, GameStop’s stock price would reach astronomical levels as investors piled in. A popular trading platform named Robinhood would have to suspend trading and raise capital to deal with the increased activity around GameStop."
   ]
  },
  {
   "cell_type": "markdown",
   "id": "radical-threat",
   "metadata": {},
   "source": [
    "![](./report_graphs_tables/GME_stock.png)"
   ]
  },
  {
   "cell_type": "markdown",
   "id": "immediate-participation",
   "metadata": {},
   "source": [
    "Even more compelling, is that a few other heavily shorted stocks like AMC and BlackBerry saw huge price increases as well. This is the opposite of what normally happens! Stocks with high short interest should be expected to go down over time. The first explanation that jumps out is that investors saw what happened to GameStop, and crowded into the trade causing a “herding” effect."
   ]
  },
  {
   "cell_type": "markdown",
   "id": "empty-sending",
   "metadata": {},
   "source": [
    "But did this have a systemic effect on the overall market? It was obvious among a select few small firms, but not on the overall small-cap market.  We attempted to answer this question in our research report."
   ]
  },
  {
   "cell_type": "markdown",
   "id": "local-appendix",
   "metadata": {},
   "source": [
    "<br><br>"
   ]
  },
  {
   "cell_type": "markdown",
   "id": "compound-liver",
   "metadata": {},
   "source": [
    "## HYPOTHESIS"
   ]
  },
  {
   "cell_type": "markdown",
   "id": "subject-xerox",
   "metadata": {},
   "source": [
    "The GameStop Rally resulted in the overperformance of other heavily shorted Russell 2000 firms. Specifically, we expect to see a strong positive intervention effect on the cross-correlations of pairs of heavily shorted stocks during the Rally relative to the expected constant difference between treated and untreated firm pairs before the Rally."
   ]
  },
  {
   "cell_type": "markdown",
   "id": "ranking-volume",
   "metadata": {},
   "source": [
    "<br><br>"
   ]
  },
  {
   "cell_type": "markdown",
   "id": "equivalent-cement",
   "metadata": {},
   "source": [
    "## DATA COLLECTION"
   ]
  },
  {
   "cell_type": "markdown",
   "id": "unable-label",
   "metadata": {},
   "source": [
    "The following are links to the code for our data collection process:\n",
    "- [Downloading Stock Data](./download_stock_prices.ipynb)\n",
    "- [Downloading Short Data](./download_short_data.ipynb)\n",
    "- [EDA Analysis](./eda_reports.ipynb)"
   ]
  },
  {
   "cell_type": "markdown",
   "id": "academic-trace",
   "metadata": {},
   "source": [
    "This project required a massive amount of data. We needed over a year's worth of stock return data for all of the firms in the Russell 2000 index. We got this from Yahoo Daily Finance using the adjusted close price. After this data was downloaded, we saved it to a csv (due to the large size) and created EDA reports using panda_profiling’s “ProfileReport”. These allowed us to take a look at the data and make sure there were no glaring issues."
   ]
  },
  {
   "cell_type": "markdown",
   "id": "australian-singles",
   "metadata": {},
   "source": [
    "One discrepancy to note is that the number of variables for “Firm” did not equal exactly 2000. This was expected as we dropped any firms that did not have full return data. It also could account for firms that were in the Russell 2000 at some point in 2020 but eventually were removed by 2021."
   ]
  },
  {
   "cell_type": "markdown",
   "id": "natural-australia",
   "metadata": {},
   "source": [
    "Additionally, the return variable “ret” did have a small percentage of “zeros”. We believe that this is not missing data, but instead instances where the stock was flat for the day  and did not have a positive or negative return."
   ]
  },
  {
   "cell_type": "markdown",
   "id": "grateful-australia",
   "metadata": {},
   "source": [
    "The next source of data required for the project was short interest in each of the firms. To get this data we used Quandl’s FINRA/NASDAQ TRF Short Interest Database. This gave us daily statistics for each firm such as total trading volume and total short trading volume. We then divided the total amount of shares traded short by the total trade volume each day. This gave us a short interest ratio, which was then averaged over the Rally period to get a metric of short interest for each firm."
   ]
  },
  {
   "cell_type": "markdown",
   "id": "growing-wayne",
   "metadata": {},
   "source": [
    "The next part of the data collection process required using a Fama-French factor dataset. This contained daily betas for each firm, along with small minus big (SMB) and high minus low (HML) factors. These factors are used in the Fama-French three-factor model, and along with market risk premium, to calculate the expected rate of return. This is essentially an extension of the Capital Asset Pricing Model (CAPM). Using this data should allow us to get more in-depth results. These factors were used to calculate an expected return, and then subtracted from the actual return. Thus, we arrive at our daily alpha for each firm on each day in the time period."
   ]
  },
  {
   "cell_type": "markdown",
   "id": "scenic-general",
   "metadata": {},
   "source": [
    "<br><br>"
   ]
  },
  {
   "cell_type": "markdown",
   "id": "legendary-approval",
   "metadata": {},
   "source": [
    "## ANALYSIS"
   ]
  },
  {
   "cell_type": "markdown",
   "id": "swedish-failing",
   "metadata": {},
   "source": [
    "Link to analysis code:\n",
    "- [Analysis](./analysis.ipynb)"
   ]
  },
  {
   "cell_type": "markdown",
   "id": "synthetic-mercury",
   "metadata": {},
   "source": [
    "To get a better picture of the daily alpha data, we created a box plot that separated the firms based on level of short interest. “High” was considered anything over 0.4, “medium” was 0.3 - 0.4, and “low” was anything under 0.3. We then plotted the daily alpha for each firm during the Rally period. The resulting data points were mostly evenly distributed across low, medium, and high. There were quite a few more outliers in the “medium” and “high” short level groups. This told us that we were unlikely to see strong alpha correlations across the entire dataset, but there were a few heavily shorted firms that did vastly outperform the index."
   ]
  },
  {
   "cell_type": "markdown",
   "id": "little-lithuania",
   "metadata": {},
   "source": [
    "![](./report_graphs_tables/Daily_Alpha.png)"
   ]
  },
  {
   "cell_type": "markdown",
   "id": "missing-medicaid",
   "metadata": {},
   "source": [
    "After calculating the daily alphas, we created a correlation matrix for both the pre-Rally period and the Rally period. These were each added to a data frame in separate columns. So each row would have a firm 1 and firm 2 (Ex. AA & AAIC) and then the correlations between the alphas of these 2 firms for both pre-Rally and during-Rally. Added to the dataset was the short-interest for both firm 1 and firm 2. The last column in the dataset was “Int Level > 0.50” which would return true only if BOTH firms had a short interest over 0.50. This allowed us to create a “treated” category that contained entries where both firms had a relatively high amount of short interest. This “treated” dataset was split further into the pre-Rally period and the during-Rally period. This was done again for correlations that did not breach the 0.50 short interest threshold. These entries are referred to as the “untreated” data. "
   ]
  },
  {
   "cell_type": "markdown",
   "id": "automotive-yemen",
   "metadata": {},
   "source": [
    "The first 10 entries of the final data table are provided below, the entirety of which can be found in the analysis notebook:"
   ]
  },
  {
   "cell_type": "code",
   "execution_count": 1,
   "id": "medieval-invite",
   "metadata": {},
   "outputs": [
    {
     "data": {
      "text/html": [
       "<div>\n",
       "<style scoped>\n",
       "    .dataframe tbody tr th:only-of-type {\n",
       "        vertical-align: middle;\n",
       "    }\n",
       "\n",
       "    .dataframe tbody tr th {\n",
       "        vertical-align: top;\n",
       "    }\n",
       "\n",
       "    .dataframe thead th {\n",
       "        text-align: right;\n",
       "    }\n",
       "</style>\n",
       "<table border=\"1\" class=\"dataframe\">\n",
       "  <thead>\n",
       "    <tr style=\"text-align: right;\">\n",
       "      <th></th>\n",
       "      <th>Firm 1</th>\n",
       "      <th>Firm 2</th>\n",
       "      <th>Pre-Rally Alpha Corr.</th>\n",
       "      <th>Rally Alpha Corr.</th>\n",
       "      <th>Firm 1 Short Int.</th>\n",
       "      <th>Firm 2 Short Int.</th>\n",
       "      <th>Int Level &gt; 0.50</th>\n",
       "    </tr>\n",
       "  </thead>\n",
       "  <tbody>\n",
       "    <tr>\n",
       "      <th>0</th>\n",
       "      <td>AA</td>\n",
       "      <td>AAIC</td>\n",
       "      <td>-0.148</td>\n",
       "      <td>-0.155</td>\n",
       "      <td>0.398262</td>\n",
       "      <td>0.549789</td>\n",
       "      <td>False</td>\n",
       "    </tr>\n",
       "    <tr>\n",
       "      <th>1</th>\n",
       "      <td>AA</td>\n",
       "      <td>AAN</td>\n",
       "      <td>-0.102</td>\n",
       "      <td>0.091</td>\n",
       "      <td>0.398262</td>\n",
       "      <td>0.324937</td>\n",
       "      <td>False</td>\n",
       "    </tr>\n",
       "    <tr>\n",
       "      <th>2</th>\n",
       "      <td>AA</td>\n",
       "      <td>AAOI</td>\n",
       "      <td>0.010</td>\n",
       "      <td>0.032</td>\n",
       "      <td>0.398262</td>\n",
       "      <td>0.439304</td>\n",
       "      <td>False</td>\n",
       "    </tr>\n",
       "    <tr>\n",
       "      <th>3</th>\n",
       "      <td>AA</td>\n",
       "      <td>AAON</td>\n",
       "      <td>-0.207</td>\n",
       "      <td>-0.431</td>\n",
       "      <td>0.398262</td>\n",
       "      <td>0.631556</td>\n",
       "      <td>False</td>\n",
       "    </tr>\n",
       "    <tr>\n",
       "      <th>4</th>\n",
       "      <td>AA</td>\n",
       "      <td>AAT</td>\n",
       "      <td>-0.049</td>\n",
       "      <td>0.113</td>\n",
       "      <td>0.398262</td>\n",
       "      <td>0.501212</td>\n",
       "      <td>False</td>\n",
       "    </tr>\n",
       "    <tr>\n",
       "      <th>5</th>\n",
       "      <td>AA</td>\n",
       "      <td>AAWW</td>\n",
       "      <td>-0.035</td>\n",
       "      <td>-0.086</td>\n",
       "      <td>0.398262</td>\n",
       "      <td>0.635690</td>\n",
       "      <td>False</td>\n",
       "    </tr>\n",
       "    <tr>\n",
       "      <th>6</th>\n",
       "      <td>AA</td>\n",
       "      <td>ABCB</td>\n",
       "      <td>-0.105</td>\n",
       "      <td>0.102</td>\n",
       "      <td>0.398262</td>\n",
       "      <td>0.416485</td>\n",
       "      <td>False</td>\n",
       "    </tr>\n",
       "    <tr>\n",
       "      <th>7</th>\n",
       "      <td>AA</td>\n",
       "      <td>ABEO</td>\n",
       "      <td>0.043</td>\n",
       "      <td>-0.204</td>\n",
       "      <td>0.398262</td>\n",
       "      <td>0.591482</td>\n",
       "      <td>False</td>\n",
       "    </tr>\n",
       "    <tr>\n",
       "      <th>8</th>\n",
       "      <td>AA</td>\n",
       "      <td>ABG</td>\n",
       "      <td>-0.029</td>\n",
       "      <td>-0.114</td>\n",
       "      <td>0.398262</td>\n",
       "      <td>0.523565</td>\n",
       "      <td>False</td>\n",
       "    </tr>\n",
       "    <tr>\n",
       "      <th>9</th>\n",
       "      <td>AA</td>\n",
       "      <td>ABM</td>\n",
       "      <td>-0.125</td>\n",
       "      <td>-0.164</td>\n",
       "      <td>0.398262</td>\n",
       "      <td>0.577169</td>\n",
       "      <td>False</td>\n",
       "    </tr>\n",
       "  </tbody>\n",
       "</table>\n",
       "</div>"
      ],
      "text/plain": [
       "  Firm 1 Firm 2  Pre-Rally Alpha Corr.  Rally Alpha Corr.  Firm 1 Short Int.  \\\n",
       "0     AA   AAIC                 -0.148             -0.155           0.398262   \n",
       "1     AA    AAN                 -0.102              0.091           0.398262   \n",
       "2     AA   AAOI                  0.010              0.032           0.398262   \n",
       "3     AA   AAON                 -0.207             -0.431           0.398262   \n",
       "4     AA    AAT                 -0.049              0.113           0.398262   \n",
       "5     AA   AAWW                 -0.035             -0.086           0.398262   \n",
       "6     AA   ABCB                 -0.105              0.102           0.398262   \n",
       "7     AA   ABEO                  0.043             -0.204           0.398262   \n",
       "8     AA    ABG                 -0.029             -0.114           0.398262   \n",
       "9     AA    ABM                 -0.125             -0.164           0.398262   \n",
       "\n",
       "   Firm 2 Short Int.  Int Level > 0.50  \n",
       "0           0.549789             False  \n",
       "1           0.324937             False  \n",
       "2           0.439304             False  \n",
       "3           0.631556             False  \n",
       "4           0.501212             False  \n",
       "5           0.635690             False  \n",
       "6           0.416485             False  \n",
       "7           0.591482             False  \n",
       "8           0.523565             False  \n",
       "9           0.577169             False  "
      ]
     },
     "execution_count": 1,
     "metadata": {},
     "output_type": "execute_result"
    }
   ],
   "source": [
    "import pandas as pd\n",
    "table = pd.read_csv('report_graphs_tables/Final_Table_Head.csv')\n",
    "table.drop(['Unnamed: 0'], axis=1)"
   ]
  },
  {
   "cell_type": "markdown",
   "id": "worldwide-thanksgiving",
   "metadata": {},
   "source": [
    "There was a fair amount of EDA that had to go into the treated/untreated date. We first removed all the rows where Firm 1 and Firm 2 were equal to one another. We also removed instances where Firm 1 & 2 were the same in 2 separate rows, but in a different order. This cut down our total rows from over 4 million entires to just over 2 million."
   ]
  },
  {
   "cell_type": "markdown",
   "id": "competitive-airfare",
   "metadata": {},
   "source": [
    "The onset of the GameStop Rally served as the start of the intervention period. During this time period, we would expect to see a different outcome than pre-intervention. The outcome in our scenario is the correlations between the alphas. All of this data can then be used to calculate the DiD."
   ]
  },
  {
   "cell_type": "markdown",
   "id": "heard-honey",
   "metadata": {},
   "source": [
    "To do this, we set up the pseudo-code as (Average correlation of highly shorted firms during Rally - Average correlation of highly shorted firms before Rally) - (Average correlation of non-highly shorted firms during Rally - Average correlation of non-highly shorted firms before Rally). The answer to this was 0.0027."
   ]
  },
  {
   "cell_type": "markdown",
   "id": "aquatic-accordance",
   "metadata": {},
   "source": [
    "```python\n",
    "treated = corr_and_shorts.loc[corr_and_shorts['Int Level > 0.50'] == True]\n",
    "treated_mean = treated['Rally Alpha Corr.'].mean() - treated['Pre-Rally Alpha Corr.'].mean()\n",
    "untreated = corr_and_shorts.loc[corr_and_shorts['Int Level > 0.50'] == False]\n",
    "untreated_mean = untreated['Rally Alpha Corr.'].mean() - untreated['Pre-Rally Alpha Corr.'].mean()\n",
    "\n",
    "diff_in_diff = treated_mean - untreated_mean\n",
    "\n",
    "print('High short interest firms pre and during rally:')\n",
    "print(round(treated_mean, 4))\n",
    "print('Low short interest firms pre and during rally:')\n",
    "print(round(untreated_mean, 4))\n",
    "print('Difference between high short interest firms pre/during rally and low short interest firms pre/during rally')\n",
    "print('(i.e. Difference-in-Difference):')\n",
    "print(round(diff_in_diff, 4))\n",
    "```"
   ]
  },
  {
   "cell_type": "markdown",
   "id": "alternate-reality",
   "metadata": {},
   "source": [
    "```\n",
    "High short interest firms pre and during rally:\n",
    "-0.0059\n",
    "\n",
    "Low short interest firms pre and during rally:\n",
    "-0.0087\n",
    "\n",
    "Difference between high short interest firms pre/during rally and low short interest firms pre/during rally\n",
    "(i.e. Difference-in-Difference):\n",
    "0.0027\n",
    "```"
   ]
  },
  {
   "cell_type": "markdown",
   "id": "metric-jefferson",
   "metadata": {},
   "source": [
    "The DiD aims to find an intervention effect after an intervention date. In the context of the project, the 0.0027 difference indicates that the cross-correlation of alphas for highly-shorted pairs of firms during the Rally is only 0.0027 greater relative to the expected constant difference between treated and untreated firm pairs before the Rally."
   ]
  },
  {
   "cell_type": "markdown",
   "id": "dutch-binding",
   "metadata": {},
   "source": [
    "With the DiD so close to 0, it is difficult to see a strong intervention effect of the on-set of the Rally on firm pairs with a high short interest."
   ]
  },
  {
   "cell_type": "markdown",
   "id": "flush-pathology",
   "metadata": {},
   "source": [
    "<br><br>"
   ]
  },
  {
   "cell_type": "markdown",
   "id": "metallic-shanghai",
   "metadata": {},
   "source": [
    "## CONCLUSIONS"
   ]
  },
  {
   "cell_type": "markdown",
   "id": "serial-nancy",
   "metadata": {},
   "source": [
    "The conclusions were not as we predicted. We originally expected there to be a significant intervention effect on the alpha cross-correlations of pairs of highly shorted firms, but the DiD coefficient we calculated does not lead to a major conclusion that supports this original expectation."
   ]
  },
  {
   "cell_type": "markdown",
   "id": "north-upgrade",
   "metadata": {},
   "source": [
    "One area that showed interesting results was the plots that analyzed the alpha correlation density for pre-Rally and during-Rally. The correlations between high short interest and low short interest were very similar. But the correlations pre-Rally and during-Rally were noticeably different. While correlations peaked at around 0.15 for both, the during-Rally correlations had a visibly higher kurtosis. This leads us to believe that the GameStop Rally led to higher volatility in alpha correlations. "
   ]
  },
  {
   "cell_type": "markdown",
   "id": "senior-apparatus",
   "metadata": {},
   "source": [
    "![](./report_graphs_tables/Alpha_Corr_Density.png)"
   ]
  },
  {
   "cell_type": "markdown",
   "id": "likely-allergy",
   "metadata": {},
   "source": [
    "Looking forward, we can consider other variables that we can use as a \"treatment\" instead of short interest. Namely, it can be interesting to explore the relationships between sizes of firms, such Apple VS. a smaller Russell 2000 firm. We can also choose to look directly at the change in stock prices over time instead of looking at the cross-correlations between of alphas."
   ]
  }
 ],
 "metadata": {
  "kernelspec": {
   "display_name": "Python 3",
   "language": "python",
   "name": "python3"
  },
  "language_info": {
   "codemirror_mode": {
    "name": "ipython",
    "version": 3
   },
   "file_extension": ".py",
   "mimetype": "text/x-python",
   "name": "python",
   "nbconvert_exporter": "python",
   "pygments_lexer": "ipython3",
   "version": "3.8.5"
  }
 },
 "nbformat": 4,
 "nbformat_minor": 5
}
