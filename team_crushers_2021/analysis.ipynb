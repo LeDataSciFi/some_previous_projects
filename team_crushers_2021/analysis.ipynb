{
 "cells": [
  {
   "cell_type": "code",
   "execution_count": 1,
   "id": "reverse-heaven",
   "metadata": {},
   "outputs": [],
   "source": [
    "import pandas as pd\n",
    "import numpy as np\n",
    "import seaborn as sns\n",
    "import matplotlib.pyplot as plt"
   ]
  },
  {
   "cell_type": "code",
   "execution_count": 2,
   "id": "infinite-movie",
   "metadata": {},
   "outputs": [],
   "source": [
    "## load alpha correlations, short data\n",
    "alphas = pd.read_csv('inputs/alphas_corr.csv.gz', compression = 'gzip')\n",
    "short = pd.read_csv('inputs/short_data.csv')"
   ]
  },
  {
   "cell_type": "code",
   "execution_count": 3,
   "id": "clean-milton",
   "metadata": {},
   "outputs": [],
   "source": [
    "## create DFs with mean short interest for firm 1 and short interest for firm 2\n",
    "short_avg = short.groupby('ticker')['short_int'].mean().to_frame()\n",
    "short_a = short_avg.reset_index().rename(columns={'ticker':'Firm 1'})\n",
    "short_b = short_avg.reset_index().rename(columns={'ticker':'Firm 2'})"
   ]
  },
  {
   "cell_type": "code",
   "execution_count": 4,
   "id": "foster-therapist",
   "metadata": {},
   "outputs": [],
   "source": [
    "# merge multiple DFs together\n",
    "short_int_firm1 = pd.merge(alphas, short_a, on='Firm 1', how='left', validate = 'many_to_one')\n",
    "short_int_both = pd.merge(short_int_firm1, short_b, on='Firm 2', how='left', validate = 'many_to_one')"
   ]
  },
  {
   "cell_type": "code",
   "execution_count": 5,
   "id": "compliant-horizon",
   "metadata": {},
   "outputs": [
    {
     "data": {
      "text/html": [
       "<div>\n",
       "<style scoped>\n",
       "    .dataframe tbody tr th:only-of-type {\n",
       "        vertical-align: middle;\n",
       "    }\n",
       "\n",
       "    .dataframe tbody tr th {\n",
       "        vertical-align: top;\n",
       "    }\n",
       "\n",
       "    .dataframe thead th {\n",
       "        text-align: right;\n",
       "    }\n",
       "</style>\n",
       "<table border=\"1\" class=\"dataframe\">\n",
       "  <thead>\n",
       "    <tr style=\"text-align: right;\">\n",
       "      <th></th>\n",
       "      <th>Firm 1</th>\n",
       "      <th>Firm 2</th>\n",
       "      <th>Pre-Rally Alpha Corr.</th>\n",
       "      <th>Rally Alpha Corr.</th>\n",
       "      <th>Firm 1 Short Int.</th>\n",
       "      <th>Firm 2 Short Int.</th>\n",
       "      <th>Int Level &gt; 0.50</th>\n",
       "    </tr>\n",
       "  </thead>\n",
       "  <tbody>\n",
       "    <tr>\n",
       "      <th>0</th>\n",
       "      <td>AA</td>\n",
       "      <td>AAIC</td>\n",
       "      <td>-0.148</td>\n",
       "      <td>-0.155</td>\n",
       "      <td>0.398262</td>\n",
       "      <td>0.549789</td>\n",
       "      <td>False</td>\n",
       "    </tr>\n",
       "    <tr>\n",
       "      <th>1</th>\n",
       "      <td>AA</td>\n",
       "      <td>AAN</td>\n",
       "      <td>-0.102</td>\n",
       "      <td>0.091</td>\n",
       "      <td>0.398262</td>\n",
       "      <td>0.324937</td>\n",
       "      <td>False</td>\n",
       "    </tr>\n",
       "    <tr>\n",
       "      <th>2</th>\n",
       "      <td>AA</td>\n",
       "      <td>AAOI</td>\n",
       "      <td>0.010</td>\n",
       "      <td>0.032</td>\n",
       "      <td>0.398262</td>\n",
       "      <td>0.439304</td>\n",
       "      <td>False</td>\n",
       "    </tr>\n",
       "    <tr>\n",
       "      <th>3</th>\n",
       "      <td>AA</td>\n",
       "      <td>AAON</td>\n",
       "      <td>-0.207</td>\n",
       "      <td>-0.431</td>\n",
       "      <td>0.398262</td>\n",
       "      <td>0.631556</td>\n",
       "      <td>False</td>\n",
       "    </tr>\n",
       "    <tr>\n",
       "      <th>4</th>\n",
       "      <td>AA</td>\n",
       "      <td>AAT</td>\n",
       "      <td>-0.049</td>\n",
       "      <td>0.113</td>\n",
       "      <td>0.398262</td>\n",
       "      <td>0.501212</td>\n",
       "      <td>False</td>\n",
       "    </tr>\n",
       "    <tr>\n",
       "      <th>...</th>\n",
       "      <td>...</td>\n",
       "      <td>...</td>\n",
       "      <td>...</td>\n",
       "      <td>...</td>\n",
       "      <td>...</td>\n",
       "      <td>...</td>\n",
       "      <td>...</td>\n",
       "    </tr>\n",
       "    <tr>\n",
       "      <th>2027048</th>\n",
       "      <td>ZNTL</td>\n",
       "      <td>ZUO</td>\n",
       "      <td>0.403</td>\n",
       "      <td>0.026</td>\n",
       "      <td>0.468637</td>\n",
       "      <td>0.360997</td>\n",
       "      <td>False</td>\n",
       "    </tr>\n",
       "    <tr>\n",
       "      <th>2027049</th>\n",
       "      <td>ZNTL</td>\n",
       "      <td>ZYXI</td>\n",
       "      <td>0.315</td>\n",
       "      <td>0.075</td>\n",
       "      <td>0.468637</td>\n",
       "      <td>0.486730</td>\n",
       "      <td>False</td>\n",
       "    </tr>\n",
       "    <tr>\n",
       "      <th>2027050</th>\n",
       "      <td>ZUMZ</td>\n",
       "      <td>ZUO</td>\n",
       "      <td>0.211</td>\n",
       "      <td>0.015</td>\n",
       "      <td>0.435923</td>\n",
       "      <td>0.360997</td>\n",
       "      <td>False</td>\n",
       "    </tr>\n",
       "    <tr>\n",
       "      <th>2027051</th>\n",
       "      <td>ZUMZ</td>\n",
       "      <td>ZYXI</td>\n",
       "      <td>0.065</td>\n",
       "      <td>-0.120</td>\n",
       "      <td>0.435923</td>\n",
       "      <td>0.486730</td>\n",
       "      <td>False</td>\n",
       "    </tr>\n",
       "    <tr>\n",
       "      <th>2027052</th>\n",
       "      <td>ZUO</td>\n",
       "      <td>ZYXI</td>\n",
       "      <td>0.297</td>\n",
       "      <td>0.215</td>\n",
       "      <td>0.360997</td>\n",
       "      <td>0.486730</td>\n",
       "      <td>False</td>\n",
       "    </tr>\n",
       "  </tbody>\n",
       "</table>\n",
       "<p>2027053 rows × 7 columns</p>\n",
       "</div>"
      ],
      "text/plain": [
       "        Firm 1 Firm 2  Pre-Rally Alpha Corr.  Rally Alpha Corr.  \\\n",
       "0           AA   AAIC                 -0.148             -0.155   \n",
       "1           AA    AAN                 -0.102              0.091   \n",
       "2           AA   AAOI                  0.010              0.032   \n",
       "3           AA   AAON                 -0.207             -0.431   \n",
       "4           AA    AAT                 -0.049              0.113   \n",
       "...        ...    ...                    ...                ...   \n",
       "2027048   ZNTL    ZUO                  0.403              0.026   \n",
       "2027049   ZNTL   ZYXI                  0.315              0.075   \n",
       "2027050   ZUMZ    ZUO                  0.211              0.015   \n",
       "2027051   ZUMZ   ZYXI                  0.065             -0.120   \n",
       "2027052    ZUO   ZYXI                  0.297              0.215   \n",
       "\n",
       "         Firm 1 Short Int.  Firm 2 Short Int.  Int Level > 0.50  \n",
       "0                 0.398262           0.549789             False  \n",
       "1                 0.398262           0.324937             False  \n",
       "2                 0.398262           0.439304             False  \n",
       "3                 0.398262           0.631556             False  \n",
       "4                 0.398262           0.501212             False  \n",
       "...                    ...                ...               ...  \n",
       "2027048           0.468637           0.360997             False  \n",
       "2027049           0.468637           0.486730             False  \n",
       "2027050           0.435923           0.360997             False  \n",
       "2027051           0.435923           0.486730             False  \n",
       "2027052           0.360997           0.486730             False  \n",
       "\n",
       "[2027053 rows x 7 columns]"
      ]
     },
     "execution_count": 5,
     "metadata": {},
     "output_type": "execute_result"
    }
   ],
   "source": [
    "## reformat final dataset\n",
    "corr_and_shorts = short_int_both.rename(columns = {'short_int_x':'Firm 1 Short Int.','short_int_y':'Firm 2 Short Int.'})\n",
    "corr_and_shorts['Int Level > 0.50'] = corr_and_shorts['Firm 1 Short Int.'].ge(0.50) & corr_and_shorts['Firm 2 Short Int.'].ge(0.50)\n",
    "\n",
    "table_head = corr_and_shorts.head(10)\n",
    "# table_head.to_csv('report_graphs_tables/Final_Table_Head.csv')\n",
    "\n",
    "corr_and_shorts"
   ]
  },
  {
   "cell_type": "code",
   "execution_count": 6,
   "id": "above-pepper",
   "metadata": {},
   "outputs": [
    {
     "name": "stdout",
     "output_type": "stream",
     "text": [
      "High short interest firms pre and during rally:\n",
      "-0.0059\n",
      "\n",
      "\n",
      "Low short interest firms pre and during rally:\n",
      "-0.0087\n",
      "\n",
      "\n",
      "Difference between high short interest firms pre/during rally and low short interest firms pre/during rally\n",
      "(i.e. Difference-in-Difference):\n",
      "0.0027\n"
     ]
    }
   ],
   "source": [
    "## calculate difference in difference between:\n",
    "## high short/pre-rally, high short/rally, low short/pre-rally, low short-rally\n",
    "treated = corr_and_shorts.loc[corr_and_shorts['Int Level > 0.50'] == True]\n",
    "treated_mean = treated['Rally Alpha Corr.'].mean() - treated['Pre-Rally Alpha Corr.'].mean()\n",
    "\n",
    "untreated = corr_and_shorts.loc[corr_and_shorts['Int Level > 0.50'] == False]\n",
    "untreated_mean = untreated['Rally Alpha Corr.'].mean() - untreated['Pre-Rally Alpha Corr.'].mean()\n",
    "\n",
    "diff_in_diff = treated_mean - untreated_mean\n",
    "\n",
    "print('High short interest firms pre and during rally:')\n",
    "print(round(treated_mean, 4))\n",
    "print('\\n')\n",
    "print('Low short interest firms pre and during rally:')\n",
    "print(round(untreated_mean, 4))\n",
    "print('\\n')\n",
    "print('Difference between high short interest firms pre/during rally and low short interest firms pre/during rally')\n",
    "print('(i.e. Difference-in-Difference):')\n",
    "print(round(diff_in_diff, 4))"
   ]
  },
  {
   "cell_type": "code",
   "execution_count": 7,
   "id": "frank-cartridge",
   "metadata": {},
   "outputs": [
    {
     "data": {
      "text/plain": [
       "<matplotlib.legend.Legend at 0x7ff4707eedf0>"
      ]
     },
     "execution_count": 7,
     "metadata": {},
     "output_type": "execute_result"
    },
    {
     "data": {
      "image/png": "[encoded data removed]",
      "text/plain": [
       "<Figure size 432x288 with 1 Axes>"
      ]
     },
     "metadata": {
      "needs_background": "light"
     },
     "output_type": "display_data"
    }
   ],
   "source": [
    "sns.kdeplot(treated['Pre-Rally Alpha Corr.'], label = 'HighShort/Pre', color = 'b')\n",
    "sns.kdeplot(treated['Rally Alpha Corr.'],label = 'HighShort/During', color = 'r')\n",
    "sns.kdeplot(untreated['Pre-Rally Alpha Corr.'],label = 'LowShort/Pre', color = 'g')\n",
    "sns.kdeplot(untreated['Rally Alpha Corr.'],label = 'LowShort/During', color = 'y')\n",
    "\n",
    "plt.xlabel('Alpha Correlations')\n",
    "plt.legend()\n",
    "# plt.savefig('report_graphs_tables/Alpha_Corr_Density.png')"
   ]
  },
  {
   "cell_type": "code",
   "execution_count": 8,
   "id": "competent-royal",
   "metadata": {},
   "outputs": [
    {
     "data": {
      "text/plain": [
       "<matplotlib.legend.Legend at 0x7ff48125d430>"
      ]
     },
     "execution_count": 8,
     "metadata": {},
     "output_type": "execute_result"
    },
    {
     "data": {
      "image/png": "[encoded data removed]",
      "text/plain": [
       "<Figure size 432x288 with 1 Axes>"
      ]
     },
     "metadata": {
      "needs_background": "light"
     },
     "output_type": "display_data"
    }
   ],
   "source": [
    "sns.kdeplot(treated['Rally Alpha Corr.'],label = 'HighShort/During', color = 'r')\n",
    "sns.kdeplot(untreated['Rally Alpha Corr.'],label = 'LowShort/During', color = 'y')\n",
    "\n",
    "plt.xlabel('Alpha Correlations')\n",
    "plt.legend()"
   ]
  },
  {
   "cell_type": "code",
   "execution_count": 9,
   "id": "ecological-frederick",
   "metadata": {},
   "outputs": [
    {
     "data": {
      "text/plain": [
       "<matplotlib.legend.Legend at 0x7ff490664eb0>"
      ]
     },
     "execution_count": 9,
     "metadata": {},
     "output_type": "execute_result"
    },
    {
     "data": {
      "image/png": "[encoded data removed]",
      "text/plain": [
       "<Figure size 432x288 with 1 Axes>"
      ]
     },
     "metadata": {
      "needs_background": "light"
     },
     "output_type": "display_data"
    }
   ],
   "source": [
    "sns.kdeplot(treated['Pre-Rally Alpha Corr.'], label = 'HighShort/Pre', color = 'b')\n",
    "sns.kdeplot(treated['Rally Alpha Corr.'],label = 'HighShort/During', color = 'r')\n",
    "\n",
    "plt.xlabel('Alpha Correlations')\n",
    "plt.legend()"
   ]
  }
 ],
 "metadata": {
  "kernelspec": {
   "display_name": "Python 3",
   "language": "python",
   "name": "python3"
  },
  "language_info": {
   "codemirror_mode": {
    "name": "ipython",
    "version": 3
   },
   "file_extension": ".py",
   "mimetype": "text/x-python",
   "name": "python",
   "nbconvert_exporter": "python",
   "pygments_lexer": "ipython3",
   "version": "3.8.5"
  }
 },
 "nbformat": 4,
 "nbformat_minor": 5
}
