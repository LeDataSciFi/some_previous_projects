{
 "cells": [
  {
   "cell_type": "code",
   "execution_count": 1,
   "id": "close-imperial",
   "metadata": {},
   "outputs": [],
   "source": [
    "import pandas as pd\n",
    "import quandl\n",
    "import datetime\n",
    "import os\n",
    "import time\n",
    "from tqdm import tqdm"
   ]
  },
  {
   "cell_type": "code",
   "execution_count": 2,
   "id": "boring-heath",
   "metadata": {},
   "outputs": [
    {
     "data": {
      "text/html": [
       "<div>\n",
       "<style scoped>\n",
       "    .dataframe tbody tr th:only-of-type {\n",
       "        vertical-align: middle;\n",
       "    }\n",
       "\n",
       "    .dataframe tbody tr th {\n",
       "        vertical-align: top;\n",
       "    }\n",
       "\n",
       "    .dataframe thead th {\n",
       "        text-align: right;\n",
       "    }\n",
       "</style>\n",
       "<table border=\"1\" class=\"dataframe\">\n",
       "  <thead>\n",
       "    <tr style=\"text-align: right;\">\n",
       "      <th></th>\n",
       "      <th>Ticker</th>\n",
       "      <th>Name</th>\n",
       "      <th>Sector</th>\n",
       "      <th>Asset Class</th>\n",
       "    </tr>\n",
       "  </thead>\n",
       "  <tbody>\n",
       "    <tr>\n",
       "      <th>0</th>\n",
       "      <td>CZR</td>\n",
       "      <td>CAESARS ENTERTAINMENT INC</td>\n",
       "      <td>Consumer Discretionary</td>\n",
       "      <td>Equity</td>\n",
       "    </tr>\n",
       "    <tr>\n",
       "      <th>1</th>\n",
       "      <td>NVAX</td>\n",
       "      <td>NOVAVAX INC</td>\n",
       "      <td>Health Care</td>\n",
       "      <td>Equity</td>\n",
       "    </tr>\n",
       "    <tr>\n",
       "      <th>2</th>\n",
       "      <td>PENN</td>\n",
       "      <td>PENN NATIONAL GAMING INC</td>\n",
       "      <td>Consumer Discretionary</td>\n",
       "      <td>Equity</td>\n",
       "    </tr>\n",
       "    <tr>\n",
       "      <th>3</th>\n",
       "      <td>PLUG</td>\n",
       "      <td>PLUG POWER INC</td>\n",
       "      <td>Industrials</td>\n",
       "      <td>Equity</td>\n",
       "    </tr>\n",
       "    <tr>\n",
       "      <th>4</th>\n",
       "      <td>DAR</td>\n",
       "      <td>DARLING INGREDIENTS INC</td>\n",
       "      <td>Consumer Staples</td>\n",
       "      <td>Equity</td>\n",
       "    </tr>\n",
       "    <tr>\n",
       "      <th>...</th>\n",
       "      <td>...</td>\n",
       "      <td>...</td>\n",
       "      <td>...</td>\n",
       "      <td>...</td>\n",
       "    </tr>\n",
       "    <tr>\n",
       "      <th>2049</th>\n",
       "      <td>WLLBW</td>\n",
       "      <td>WHITING PETROLEUM EQUITY WARRANTS</td>\n",
       "      <td>Energy</td>\n",
       "      <td>Equity</td>\n",
       "    </tr>\n",
       "    <tr>\n",
       "      <th>2050</th>\n",
       "      <td>PDLI</td>\n",
       "      <td>PDL BIOPHARMA INC</td>\n",
       "      <td>Health Care</td>\n",
       "      <td>Equity</td>\n",
       "    </tr>\n",
       "    <tr>\n",
       "      <th>2051</th>\n",
       "      <td>GTXI</td>\n",
       "      <td>GTXI INC - CVR</td>\n",
       "      <td>Health Care</td>\n",
       "      <td>Equity</td>\n",
       "    </tr>\n",
       "    <tr>\n",
       "      <th>2052</th>\n",
       "      <td>--</td>\n",
       "      <td>RESTRICTED CONTRA FERROGLOBE UNIT</td>\n",
       "      <td>Materials</td>\n",
       "      <td>Equity</td>\n",
       "    </tr>\n",
       "    <tr>\n",
       "      <th>2053</th>\n",
       "      <td>P5N994</td>\n",
       "      <td>Petrocorp Inc Escrow</td>\n",
       "      <td>Materials</td>\n",
       "      <td>Equity</td>\n",
       "    </tr>\n",
       "  </tbody>\n",
       "</table>\n",
       "<p>2051 rows × 4 columns</p>\n",
       "</div>"
      ],
      "text/plain": [
       "      Ticker                               Name                  Sector  \\\n",
       "0        CZR          CAESARS ENTERTAINMENT INC  Consumer Discretionary   \n",
       "1       NVAX                        NOVAVAX INC             Health Care   \n",
       "2       PENN           PENN NATIONAL GAMING INC  Consumer Discretionary   \n",
       "3       PLUG                     PLUG POWER INC             Industrials   \n",
       "4        DAR            DARLING INGREDIENTS INC        Consumer Staples   \n",
       "...      ...                                ...                     ...   \n",
       "2049   WLLBW  WHITING PETROLEUM EQUITY WARRANTS                  Energy   \n",
       "2050    PDLI                  PDL BIOPHARMA INC             Health Care   \n",
       "2051    GTXI                     GTXI INC - CVR             Health Care   \n",
       "2052      --  RESTRICTED CONTRA FERROGLOBE UNIT               Materials   \n",
       "2053  P5N994               Petrocorp Inc Escrow               Materials   \n",
       "\n",
       "     Asset Class  \n",
       "0         Equity  \n",
       "1         Equity  \n",
       "2         Equity  \n",
       "3         Equity  \n",
       "4         Equity  \n",
       "...          ...  \n",
       "2049      Equity  \n",
       "2050      Equity  \n",
       "2051      Equity  \n",
       "2052      Equity  \n",
       "2053      Equity  \n",
       "\n",
       "[2051 rows x 4 columns]"
      ]
     },
     "execution_count": 2,
     "metadata": {},
     "output_type": "execute_result"
    }
   ],
   "source": [
    "russell = pd.read_csv('inputs/Russell2000.csv')\n",
    "russell = russell[russell['Asset Class'] == 'Equity']\n",
    "\n",
    "russell"
   ]
  },
  {
   "cell_type": "code",
   "execution_count": 3,
   "id": "suffering-median",
   "metadata": {},
   "outputs": [],
   "source": [
    "ticker_column = russell['Ticker']\n",
    "token = '3VRiFKMVjqePJknkQata'\n",
    "start = '2021-01-01'\n",
    "end = '2021-01-31'"
   ]
  },
  {
   "cell_type": "code",
   "execution_count": 4,
   "id": "emerging-implement",
   "metadata": {},
   "outputs": [
    {
     "name": "stderr",
     "output_type": "stream",
     "text": [
      " 20%|█▉        | 402/2051 [02:36<06:38,  4.14it/s]  "
     ]
    },
    {
     "name": "stdout",
     "output_type": "stream",
     "text": [
      "Download failed on: MOGA\n"
     ]
    },
    {
     "name": "stderr",
     "output_type": "stream",
     "text": [
      " 44%|████▍     | 898/2051 [04:39<04:20,  4.42it/s]"
     ]
    },
    {
     "name": "stdout",
     "output_type": "stream",
     "text": [
      "Download failed on: CWENA\n"
     ]
    },
    {
     "name": "stderr",
     "output_type": "stream",
     "text": [
      " 70%|███████   | 1437/2051 [07:03<02:59,  3.42it/s]"
     ]
    },
    {
     "name": "stdout",
     "output_type": "stream",
     "text": [
      "Download failed on: GEFB\n"
     ]
    },
    {
     "name": "stderr",
     "output_type": "stream",
     "text": [
      " 83%|████████▎ | 1701/2051 [08:09<01:18,  4.45it/s]"
     ]
    },
    {
     "name": "stdout",
     "output_type": "stream",
     "text": [
      "Download failed on: CRDA\n"
     ]
    },
    {
     "name": "stderr",
     "output_type": "stream",
     "text": [
      " 98%|█████████▊| 2012/2051 [09:27<00:08,  4.34it/s]"
     ]
    },
    {
     "name": "stdout",
     "output_type": "stream",
     "text": [
      "Download failed on: BHA\n"
     ]
    },
    {
     "name": "stderr",
     "output_type": "stream",
     "text": [
      " 98%|█████████▊| 2016/2051 [09:30<00:18,  1.88it/s]"
     ]
    },
    {
     "name": "stdout",
     "output_type": "stream",
     "text": [
      "Download failed on: --\n"
     ]
    },
    {
     "name": "stderr",
     "output_type": "stream",
     "text": [
      "100%|█████████▉| 2044/2051 [09:40<00:01,  4.38it/s]"
     ]
    },
    {
     "name": "stdout",
     "output_type": "stream",
     "text": [
      "Download failed on: WLLAW\n"
     ]
    },
    {
     "name": "stderr",
     "output_type": "stream",
     "text": [
      "100%|█████████▉| 2046/2051 [09:43<00:04,  1.09it/s]"
     ]
    },
    {
     "name": "stdout",
     "output_type": "stream",
     "text": [
      "Download failed on: WLLBW\n"
     ]
    },
    {
     "name": "stderr",
     "output_type": "stream",
     "text": [
      "100%|█████████▉| 2049/2051 [09:47<00:01,  1.11it/s]"
     ]
    },
    {
     "name": "stdout",
     "output_type": "stream",
     "text": [
      "Download failed on: --\n"
     ]
    },
    {
     "name": "stderr",
     "output_type": "stream",
     "text": [
      "100%|█████████▉| 2050/2051 [09:51<00:01,  1.66s/it]"
     ]
    },
    {
     "name": "stdout",
     "output_type": "stream",
     "text": [
      "Download failed on: P5N994\n"
     ]
    },
    {
     "name": "stderr",
     "output_type": "stream",
     "text": [
      "100%|██████████| 2051/2051 [09:54<00:00,  3.45it/s]\n"
     ]
    }
   ],
   "source": [
    "appended_data = []\n",
    "\n",
    "# for ticker in tqdm(ticker_column, total = len(ticker_column)):\n",
    "#     try:\n",
    "#         query = 'FINRA/FNSQ_' + str(ticker)\n",
    "#         df = quandl.get(query, authtoken = token, start_date = start, end_date = end,\n",
    "#                    collapse = 'daily')\n",
    "#         df = df.assign(short_int = df['ShortVolume']/df['TotalVolume'], ticker = str(ticker))\n",
    "    \n",
    "#         appended_data.append(df)\n",
    "#     except:\n",
    "#         print('Download failed on:', str(ticker))\n",
    "#         time.sleep(3)"
   ]
  },
  {
   "cell_type": "code",
   "execution_count": 5,
   "id": "greenhouse-greene",
   "metadata": {},
   "outputs": [],
   "source": [
    "# appended_data = pd.concat(appended_data)\n",
    "# short = appended_data.reset_index().set_index('ticker')\n",
    "# short.to_csv('inputs/short_data.csv')"
   ]
  }
 ],
 "metadata": {
  "kernelspec": {
   "display_name": "Python 3",
   "language": "python",
   "name": "python3"
  },
  "language_info": {
   "codemirror_mode": {
    "name": "ipython",
    "version": 3
   },
   "file_extension": ".py",
   "mimetype": "text/x-python",
   "name": "python",
   "nbconvert_exporter": "python",
   "pygments_lexer": "ipython3",
   "version": "3.8.5"
  }
 },
 "nbformat": 4,
 "nbformat_minor": 5
}
