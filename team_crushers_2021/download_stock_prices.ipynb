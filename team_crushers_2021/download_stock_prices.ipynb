{
 "cells": [
  {
   "cell_type": "markdown",
   "id": "treated-shield",
   "metadata": {},
   "source": [
    "# Download Stock Prices"
   ]
  },
  {
   "cell_type": "code",
   "execution_count": 1,
   "id": "waiting-slide",
   "metadata": {},
   "outputs": [],
   "source": [
    "import pandas as pd\n",
    "import numpy as np\n",
    "import pandas_datareader as pdr\n",
    "from datetime import datetime"
   ]
  },
  {
   "cell_type": "code",
   "execution_count": 2,
   "id": "flush-concrete",
   "metadata": {},
   "outputs": [],
   "source": [
    "russell = pd.read_csv('inputs/Russell2000.csv')\n",
    "russell = russell[russell['Asset Class'] == 'Equity']\n",
    "\n",
    "ticker_list = russell['Ticker'].to_list()\n",
    "\n",
    "# firm_rets  = (pdr.get_data_yahoo(ticker_list, \n",
    "#                                    start=datetime(2019, 1, 1), \n",
    "#                                    end=datetime(2021, 3, 30))\n",
    "              \n",
    "#                 .filter(like='Adj Close') \n",
    "#                 .droplevel(0,axis=1) \n",
    "               \n",
    "#                 .stack().swaplevel().sort_index().reset_index(name='Adj Close')\n",
    "#                 .rename({'Symbols':'Firm'},axis=1)\n",
    "               \n",
    "#                 .assign(ret = lambda x: x.groupby('Firm')['Adj Close'].pct_change()))"
   ]
  },
  {
   "cell_type": "code",
   "execution_count": 3,
   "id": "broad-transport",
   "metadata": {},
   "outputs": [],
   "source": [
    "# firm_rets.to_csv('inputs/stock_prices.csv')"
   ]
  }
 ],
 "metadata": {
  "kernelspec": {
   "display_name": "Python 3",
   "language": "python",
   "name": "python3"
  },
  "language_info": {
   "codemirror_mode": {
    "name": "ipython",
    "version": 3
   },
   "file_extension": ".py",
   "mimetype": "text/x-python",
   "name": "python",
   "nbconvert_exporter": "python",
   "pygments_lexer": "ipython3",
   "version": "3.8.5"
  }
 },
 "nbformat": 4,
 "nbformat_minor": 5
}
