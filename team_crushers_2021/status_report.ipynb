{
 "cells": [
  {
   "cell_type": "markdown",
   "id": "covered-longer",
   "metadata": {},
   "source": [
    "# Team Crushers - Project Status Report "
   ]
  },
  {
   "cell_type": "markdown",
   "id": "confident-paper",
   "metadata": {},
   "source": [
    "## Data sources\n",
    "1. Quandl - source for financial, economic and alternative datasets, serving investment professionals\n",
    "    - This was used to gather daily short volume and total volume for the firms in the Russell 2000\n",
    "    - We then divided short volume by total volume to come up with a daily percentage of shares traded short\n",
    "2. Yahoo finance - stock prices\n",
    "    - We used adjusted close data from Yahoo finance to find the daily return for each firm in the Russell 2000 in 2019\n"
   ]
  },
  {
   "cell_type": "markdown",
   "id": "relative-calculator",
   "metadata": {},
   "source": [
    "## Acquiring data\n",
    "1. Download list of Russell 2000 firms\n",
    "    - From an Excel file of components in the iShares Russell 2000 ETF, excluding any non-equity components\n",
    "1. Download short data for each of the Russell 2000 firms from Quandl\n",
    "    - Calculated short interest by dividing short volume by total volume\n",
    "1. Download stock prices from Yahoo Finance in 2019"
   ]
  },
  {
   "cell_type": "markdown",
   "id": "differential-romantic",
   "metadata": {},
   "source": [
    "## EDA Main Observations\n",
    "### Short data \n",
    "1. Observation unit is a firm’s short information for a given day in January 2021\n",
    "    - 38,123 total observations\n",
    "1. Was not able to get information for a number of stocks (16), most of which were stocks that were specific classes of stocks (e.g. Moog Class A)\n",
    "    - Chose to ignore these as they represented only a small fraction of the entire Russell 2000 index\n",
    "    - Some of the other missing firms could just be due to a server overload — will attempt to redownload \n",
    "1. No outright problems with the data\n",
    "    - No missing values, only `ShortExemptVolume` has any zeros, and for the purposes of our project, we will not be looking at this variables\n",
    "1. Short interest data is normally distributed\n",
    "1. Short volume and total volume are highly correlated with each other\n",
    "1. Plotted on a scatterplot shows a strong positive relationship between the two variables\n"
   ]
  },
  {
   "cell_type": "markdown",
   "id": "international-joshua",
   "metadata": {},
   "source": [
    "## EDA Visualized\n",
    "1. See: `inputs/short_report.html` and `inputs/stockprice_report.hmtl` for a broad Pandas profiling report of the 2 main data sets"
   ]
  }
 ],
 "metadata": {
  "kernelspec": {
   "display_name": "Python 3",
   "language": "python",
   "name": "python3"
  },
  "language_info": {
   "codemirror_mode": {
    "name": "ipython",
    "version": 3
   },
   "file_extension": ".py",
   "mimetype": "text/x-python",
   "name": "python",
   "nbconvert_exporter": "python",
   "pygments_lexer": "ipython3",
   "version": "3.8.5"
  }
 },
 "nbformat": 4,
 "nbformat_minor": 5
}
